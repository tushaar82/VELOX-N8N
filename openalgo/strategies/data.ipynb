{
 "cells": [
  {
   "cell_type": "code",
   "execution_count": null,
   "metadata": {},
   "outputs": [],
   "source": [
    "from openalgo import api\n",
    "\n",
    "client = api(api_key='7674fa867dae9bd63ee7dabba6570392d4ca8f57f6ad0d02f9a2316f42fb3390', host='http://127.0.0.1:5000')\n",
    "\n",
    "\n",
    "response = client.history(symbol=\"NIFTY\", \n",
    "    exchange=\"NSE_INDEX\", \n",
    "    interval=\"1m\", \n",
    "    start_date=\"2016-10-01\", \n",
    "    end_date=\"2025-10-03\"\n",
    "    )"
   ]
  },
  {
   "cell_type": "code",
   "execution_count": 2,
   "metadata": {},
   "outputs": [
    {
     "data": {
      "text/plain": [
       "{'status': 'error',\n",
       " 'message': 'Failed to connect to the server. Please check if the server is running.',\n",
       " 'error_type': 'connection_error'}"
      ]
     },
     "execution_count": 2,
     "metadata": {},
     "output_type": "execute_result"
    }
   ],
   "source": [
    "response"
   ]
  }
 ],
 "metadata": {
  "kernelspec": {
   "display_name": "openalgoui",
   "language": "python",
   "name": "python3"
  },
  "language_info": {
   "codemirror_mode": {
    "name": "ipython",
    "version": 3
   },
   "file_extension": ".py",
   "mimetype": "text/x-python",
   "name": "python",
   "nbconvert_exporter": "python",
   "pygments_lexer": "ipython3",
   "version": "3.12.8"
  }
 },
 "nbformat": 4,
 "nbformat_minor": 2
}
